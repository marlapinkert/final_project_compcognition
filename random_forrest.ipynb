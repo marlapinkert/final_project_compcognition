{
  "nbformat": 4,
  "nbformat_minor": 0,
  "metadata": {
    "colab": {
      "provenance": []
    },
    "kernelspec": {
      "name": "python3",
      "display_name": "Python 3"
    },
    "language_info": {
      "name": "python"
    }
  },
  "cells": [
    {
      "cell_type": "code",
      "execution_count": null,
      "metadata": {
        "id": "s0mQ9WEbMtWX"
      },
      "outputs": [],
      "source": [
        "import pandas as pd\n",
        "from sklearn.model_selection import train_test_split\n",
        "from sklearn.ensemble import RandomForestClassifier\n",
        "from sklearn.metrics import classification_report, confusion_matrix, accuracy_score\n",
        "import matplotlib.pyplot as plt\n",
        "import seaborn as sns\n",
        "\n",
        "# Load Data\n",
        "df = pd.read_csv(\"Data\")\n",
        "\n",
        "# Separate features and target\n",
        "X = df.drop(\"X\", axis=1)\n",
        "y = df[\"Y\"]\n",
        "\n",
        "# Split Data\n",
        "X_train, X_test, y_train, y_test = train_test_split(X, y, test_size=0.3, random_state=42)\n",
        "\n",
        "\n",
        "rf = RandomForestClassifier(n_estimators=100, random_state=42)\n",
        "\n",
        "\n",
        "rf.fit(X_train, y_train)\n",
        "\n",
        "\n",
        "y_pred = rf.predict(X_test)\n",
        "\n",
        "# Evaluate the model\n",
        "print(\"Confusion Matrix:\")\n",
        "print(confusion_matrix(y_test, y_pred))\n",
        "print(\"Classification\")\n",
        "print(classification_report(y_test, y_pred))\n",
        "print(\"Accuracy\")\n",
        "print(accuracy_score(y_test, y_pred))\n",
        "\n",
        "feature_importances = rf.feature_importances_\n",
        "features = X.columns\n",
        "importances_df = pd.DataFrame({'Feature': features, 'Importance': feature_importances})\n",
        "\n",
        "importances_df = importances_df.sort_values(by='Importance', ascending=False)\n",
        "\n",
        "plt.figure(figsize=(10, 6))\n",
        "sns.barplot(x='Importance', y='Feature', data=importances_df)\n",
        "plt.title('Feature Importances')\n",
        "plt.show()\n",
        "\n",
        "\n"
      ]
    }
  ]
}