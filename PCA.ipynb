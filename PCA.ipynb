{
 "cells": [
  {
   "cell_type": "code",
   "execution_count": 15,
   "id": "b0848498-7b4b-473a-9e89-bfc0043302f2",
   "metadata": {
    "tags": []
   },
   "outputs": [],
   "source": [
    "import pandas as pd\n",
    "import numpy as np\n",
    "from sklearn.model_selection import train_test_split\n",
    "from sklearn.decomposition import PCA\n",
    "import matplotlib.pyplot as plt"
   ]
  },
  {
   "cell_type": "code",
   "execution_count": 9,
   "id": "43194e45-6e74-4e73-a078-c8889769fb5b",
   "metadata": {
    "tags": []
   },
   "outputs": [],
   "source": [
    "# read in data\n",
    "\n",
    "df_path = '/Users/sarabinder/Desktop/To_Do/Wichtig/rf_test/complete_df.csv'\n",
    "data_df = pd.read_csv(df_path, index_col = 0)"
   ]
  },
  {
   "cell_type": "code",
   "execution_count": 10,
   "id": "0b807abf-3f1e-485f-9435-a6e19c5b52af",
   "metadata": {
    "tags": []
   },
   "outputs": [],
   "source": [
    "# get data ready (copied from random forest notebook)\n",
    "\n",
    "for i in range(len(data_df)):\n",
    "    data_df.iloc[i,-1] =  data_df.iloc[i,-1].split(\"_rois\")[0]\n",
    "\n",
    "data_df = data_df.rename(columns = {\"ID\": \"FILE_ID\"})\n",
    "\n",
    "\n",
    "pheno_df = pd.read_csv(\"/Users/sarabinder/Desktop/To_Do/Wichtig/rf_test/Phenotypic_V1_0b_preprocessed1.csv\", index_col = 0)\n",
    "diagnose_df = pheno_df.loc[:,[\"FILE_ID\", \"DX_GROUP\", \"DSM_IV_TR\"]]\n",
    "\n",
    "\n",
    "data_merged_df = pd.merge(data_df, diagnose_df, on = \"FILE_ID\", how = \"left\")\n",
    "data_merged_df = data_merged_df.dropna()\n",
    "\n",
    "# Separate features and target\n",
    "X = data_merged_df.drop([\"FILE_ID\", \"DX_GROUP\", \"DSM_IV_TR\"], axis=1)\n",
    "y = data_merged_df[\"DX_GROUP\"]\n",
    "\n",
    "# Split Data\n",
    "X_train, X_test, y_train, y_test = train_test_split(X, y, test_size=0.3, random_state=42)"
   ]
  },
  {
   "cell_type": "code",
   "execution_count": 12,
   "id": "c700de17-0d37-4ae5-9873-6e8a2ac60520",
   "metadata": {
    "tags": []
   },
   "outputs": [
    {
     "data": {
      "text/html": [
       "<style>#sk-container-id-1 {color: black;}#sk-container-id-1 pre{padding: 0;}#sk-container-id-1 div.sk-toggleable {background-color: white;}#sk-container-id-1 label.sk-toggleable__label {cursor: pointer;display: block;width: 100%;margin-bottom: 0;padding: 0.3em;box-sizing: border-box;text-align: center;}#sk-container-id-1 label.sk-toggleable__label-arrow:before {content: \"▸\";float: left;margin-right: 0.25em;color: #696969;}#sk-container-id-1 label.sk-toggleable__label-arrow:hover:before {color: black;}#sk-container-id-1 div.sk-estimator:hover label.sk-toggleable__label-arrow:before {color: black;}#sk-container-id-1 div.sk-toggleable__content {max-height: 0;max-width: 0;overflow: hidden;text-align: left;background-color: #f0f8ff;}#sk-container-id-1 div.sk-toggleable__content pre {margin: 0.2em;color: black;border-radius: 0.25em;background-color: #f0f8ff;}#sk-container-id-1 input.sk-toggleable__control:checked~div.sk-toggleable__content {max-height: 200px;max-width: 100%;overflow: auto;}#sk-container-id-1 input.sk-toggleable__control:checked~label.sk-toggleable__label-arrow:before {content: \"▾\";}#sk-container-id-1 div.sk-estimator input.sk-toggleable__control:checked~label.sk-toggleable__label {background-color: #d4ebff;}#sk-container-id-1 div.sk-label input.sk-toggleable__control:checked~label.sk-toggleable__label {background-color: #d4ebff;}#sk-container-id-1 input.sk-hidden--visually {border: 0;clip: rect(1px 1px 1px 1px);clip: rect(1px, 1px, 1px, 1px);height: 1px;margin: -1px;overflow: hidden;padding: 0;position: absolute;width: 1px;}#sk-container-id-1 div.sk-estimator {font-family: monospace;background-color: #f0f8ff;border: 1px dotted black;border-radius: 0.25em;box-sizing: border-box;margin-bottom: 0.5em;}#sk-container-id-1 div.sk-estimator:hover {background-color: #d4ebff;}#sk-container-id-1 div.sk-parallel-item::after {content: \"\";width: 100%;border-bottom: 1px solid gray;flex-grow: 1;}#sk-container-id-1 div.sk-label:hover label.sk-toggleable__label {background-color: #d4ebff;}#sk-container-id-1 div.sk-serial::before {content: \"\";position: absolute;border-left: 1px solid gray;box-sizing: border-box;top: 0;bottom: 0;left: 50%;z-index: 0;}#sk-container-id-1 div.sk-serial {display: flex;flex-direction: column;align-items: center;background-color: white;padding-right: 0.2em;padding-left: 0.2em;position: relative;}#sk-container-id-1 div.sk-item {position: relative;z-index: 1;}#sk-container-id-1 div.sk-parallel {display: flex;align-items: stretch;justify-content: center;background-color: white;position: relative;}#sk-container-id-1 div.sk-item::before, #sk-container-id-1 div.sk-parallel-item::before {content: \"\";position: absolute;border-left: 1px solid gray;box-sizing: border-box;top: 0;bottom: 0;left: 50%;z-index: -1;}#sk-container-id-1 div.sk-parallel-item {display: flex;flex-direction: column;z-index: 1;position: relative;background-color: white;}#sk-container-id-1 div.sk-parallel-item:first-child::after {align-self: flex-end;width: 50%;}#sk-container-id-1 div.sk-parallel-item:last-child::after {align-self: flex-start;width: 50%;}#sk-container-id-1 div.sk-parallel-item:only-child::after {width: 0;}#sk-container-id-1 div.sk-dashed-wrapped {border: 1px dashed gray;margin: 0 0.4em 0.5em 0.4em;box-sizing: border-box;padding-bottom: 0.4em;background-color: white;}#sk-container-id-1 div.sk-label label {font-family: monospace;font-weight: bold;display: inline-block;line-height: 1.2em;}#sk-container-id-1 div.sk-label-container {text-align: center;}#sk-container-id-1 div.sk-container {/* jupyter's `normalize.less` sets `[hidden] { display: none; }` but bootstrap.min.css set `[hidden] { display: none !important; }` so we also need the `!important` here to be able to override the default hidden behavior on the sphinx rendered scikit-learn.org. See: https://github.com/scikit-learn/scikit-learn/issues/21755 */display: inline-block !important;position: relative;}#sk-container-id-1 div.sk-text-repr-fallback {display: none;}</style><div id=\"sk-container-id-1\" class=\"sk-top-container\"><div class=\"sk-text-repr-fallback\"><pre>PCA()</pre><b>In a Jupyter environment, please rerun this cell to show the HTML representation or trust the notebook. <br />On GitHub, the HTML representation is unable to render, please try loading this page with nbviewer.org.</b></div><div class=\"sk-container\" hidden><div class=\"sk-item\"><div class=\"sk-estimator sk-toggleable\"><input class=\"sk-toggleable__control sk-hidden--visually\" id=\"sk-estimator-id-1\" type=\"checkbox\" checked><label for=\"sk-estimator-id-1\" class=\"sk-toggleable__label sk-toggleable__label-arrow\">PCA</label><div class=\"sk-toggleable__content\"><pre>PCA()</pre></div></div></div></div></div>"
      ],
      "text/plain": [
       "PCA()"
      ]
     },
     "execution_count": 12,
     "metadata": {},
     "output_type": "execute_result"
    }
   ],
   "source": [
    "# initiate and fit pca to training data\n",
    "pca = PCA()\n",
    "pca.fit(X_train)"
   ]
  },
  {
   "cell_type": "code",
   "execution_count": 13,
   "id": "fe0e78f1-0693-43be-8329-88534dab321d",
   "metadata": {
    "collapsed": true,
    "jupyter": {
     "outputs_hidden": true
    },
    "tags": []
   },
   "outputs": [
    {
     "data": {
      "text/plain": [
       "array([2.80416764e-02, 2.55759277e-02, 1.81357572e-02, 1.43660122e-02,\n",
       "       1.38440957e-02, 1.24140834e-02, 1.14917882e-02, 1.00578755e-02,\n",
       "       9.71854181e-03, 8.92971753e-03, 8.57366460e-03, 8.36935348e-03,\n",
       "       8.14046236e-03, 7.51281694e-03, 7.38461201e-03, 7.15361237e-03,\n",
       "       6.46112076e-03, 6.29833710e-03, 6.21479541e-03, 6.06730805e-03,\n",
       "       5.95689810e-03, 5.81013140e-03, 5.61193364e-03, 5.45114941e-03,\n",
       "       5.22497954e-03, 5.14517483e-03, 5.08599403e-03, 4.99593280e-03,\n",
       "       4.89550043e-03, 4.80765720e-03, 4.74298838e-03, 4.68334825e-03,\n",
       "       4.49418425e-03, 4.34810940e-03, 4.28859182e-03, 4.24251801e-03,\n",
       "       4.12315342e-03, 4.08054407e-03, 4.05685236e-03, 3.97105728e-03,\n",
       "       3.90887184e-03, 3.85497583e-03, 3.80294506e-03, 3.78169715e-03,\n",
       "       3.69329854e-03, 3.65666139e-03, 3.63199783e-03, 3.57530951e-03,\n",
       "       3.53253313e-03, 3.49165330e-03, 3.46594668e-03, 3.39166446e-03,\n",
       "       3.37024442e-03, 3.31421972e-03, 3.28680537e-03, 3.23151732e-03,\n",
       "       3.20877666e-03, 3.18015518e-03, 3.13038441e-03, 3.11607347e-03,\n",
       "       3.07006304e-03, 3.02875457e-03, 3.01884033e-03, 2.98526308e-03,\n",
       "       2.95862017e-03, 2.90720470e-03, 2.88759905e-03, 2.88096624e-03,\n",
       "       2.85552636e-03, 2.81084151e-03, 2.78570678e-03, 2.77915781e-03,\n",
       "       2.74057590e-03, 2.73567394e-03, 2.72038173e-03, 2.70054973e-03,\n",
       "       2.68813558e-03, 2.65998533e-03, 2.63330378e-03, 2.61286572e-03,\n",
       "       2.60437360e-03, 2.56958701e-03, 2.54652932e-03, 2.53707367e-03,\n",
       "       2.50677202e-03, 2.49329286e-03, 2.45024514e-03, 2.44084989e-03,\n",
       "       2.42675290e-03, 2.40234206e-03, 2.39558726e-03, 2.38115443e-03,\n",
       "       2.37783280e-03, 2.35321605e-03, 2.34442773e-03, 2.33298438e-03,\n",
       "       2.31428576e-03, 2.30482399e-03, 2.28476067e-03, 2.28114612e-03,\n",
       "       2.26781848e-03, 2.25626994e-03, 2.24047338e-03, 2.23523194e-03,\n",
       "       2.22568518e-03, 2.20238619e-03, 2.18762448e-03, 2.17673864e-03,\n",
       "       2.16556067e-03, 2.16121559e-03, 2.13740398e-03, 2.12102522e-03,\n",
       "       2.11771930e-03, 2.10050514e-03, 2.09877294e-03, 2.08076568e-03,\n",
       "       2.05687300e-03, 2.04225862e-03, 2.03037491e-03, 2.02716478e-03,\n",
       "       2.01906033e-03, 2.01154061e-03, 1.99670980e-03, 1.98607633e-03,\n",
       "       1.97661632e-03, 1.95856626e-03, 1.94879794e-03, 1.93717793e-03,\n",
       "       1.93213506e-03, 1.92023273e-03, 1.90882744e-03, 1.89596347e-03,\n",
       "       1.89252511e-03, 1.88712906e-03, 1.88481066e-03, 1.87075051e-03,\n",
       "       1.86602978e-03, 1.84793112e-03, 1.84451432e-03, 1.83410313e-03,\n",
       "       1.82303741e-03, 1.81882011e-03, 1.81173611e-03, 1.79947436e-03,\n",
       "       1.79742593e-03, 1.78187020e-03, 1.77754958e-03, 1.76681587e-03,\n",
       "       1.76229388e-03, 1.75078943e-03, 1.73979067e-03, 1.73118330e-03,\n",
       "       1.72048164e-03, 1.71503537e-03, 1.71122289e-03, 1.70345557e-03,\n",
       "       1.69819083e-03, 1.69013629e-03, 1.68202414e-03, 1.67069895e-03,\n",
       "       1.66676947e-03, 1.66384171e-03, 1.65563210e-03, 1.65023606e-03,\n",
       "       1.64437492e-03, 1.63896394e-03, 1.63348238e-03, 1.62626377e-03,\n",
       "       1.61872310e-03, 1.61230495e-03, 1.60884830e-03, 1.60184373e-03,\n",
       "       1.59430124e-03, 1.58763318e-03, 1.58627028e-03, 1.57500773e-03,\n",
       "       1.57180533e-03, 1.57159851e-03, 1.56053949e-03, 1.55389621e-03,\n",
       "       1.54587843e-03, 1.54182261e-03, 1.53781818e-03, 1.53095742e-03,\n",
       "       1.52473951e-03, 1.51999584e-03, 1.51389186e-03, 1.50532011e-03,\n",
       "       1.49599494e-03, 1.48683730e-03, 1.48264212e-03, 1.47516083e-03,\n",
       "       1.47226662e-03, 1.46571379e-03, 1.45909725e-03, 1.45390546e-03,\n",
       "       1.44806475e-03, 1.44507849e-03, 1.44255214e-03, 1.43184454e-03,\n",
       "       1.42267603e-03, 1.41729111e-03, 1.41430423e-03, 1.41242921e-03,\n",
       "       1.40622736e-03, 1.39993225e-03, 1.39557812e-03, 1.39284848e-03,\n",
       "       1.38796622e-03, 1.38203316e-03, 1.37831913e-03, 1.37161008e-03,\n",
       "       1.36902552e-03, 1.36804891e-03, 1.36233232e-03, 1.35731285e-03,\n",
       "       1.34943432e-03, 1.34250207e-03, 1.33509766e-03, 1.33218235e-03,\n",
       "       1.32735414e-03, 1.32659180e-03, 1.32154293e-03, 1.31753476e-03,\n",
       "       1.31380901e-03, 1.30828894e-03, 1.30213740e-03, 1.29751719e-03,\n",
       "       1.29513101e-03, 1.28475992e-03, 1.27746870e-03, 1.27464685e-03,\n",
       "       1.27230097e-03, 1.26755818e-03, 1.26050261e-03, 1.25916822e-03,\n",
       "       1.25587895e-03, 1.25185295e-03, 1.24903696e-03, 1.24606240e-03,\n",
       "       1.24389535e-03, 1.23553512e-03, 1.23362540e-03, 1.23230406e-03,\n",
       "       1.22672750e-03, 1.22081556e-03, 1.21883978e-03, 1.21656202e-03,\n",
       "       1.21531278e-03, 1.21173345e-03, 1.20371012e-03, 1.20164570e-03,\n",
       "       1.19429226e-03, 1.19282552e-03, 1.19162661e-03, 1.18648874e-03,\n",
       "       1.18562716e-03, 1.18082119e-03, 1.17681462e-03, 1.17264252e-03,\n",
       "       1.16932035e-03, 1.16605856e-03, 1.16291622e-03, 1.15830087e-03,\n",
       "       1.15268204e-03, 1.15208268e-03, 1.14755604e-03, 1.14565704e-03,\n",
       "       1.14178711e-03, 1.13789404e-03, 1.13302626e-03, 1.13126828e-03,\n",
       "       1.12777414e-03, 1.12569666e-03, 1.12126411e-03, 1.11598286e-03,\n",
       "       1.11167518e-03, 1.10645860e-03, 1.10418551e-03, 1.10281757e-03,\n",
       "       1.10029541e-03, 1.09841145e-03, 1.09418819e-03, 1.09339296e-03,\n",
       "       1.08886384e-03, 1.08509468e-03, 1.08024613e-03, 1.07807779e-03,\n",
       "       1.07410337e-03, 1.06971871e-03, 1.06886416e-03, 1.06691304e-03,\n",
       "       1.06418592e-03, 1.05980458e-03, 1.05503324e-03, 1.05158583e-03,\n",
       "       1.04994759e-03, 1.04518901e-03, 1.04393832e-03, 1.04247734e-03,\n",
       "       1.03831085e-03, 1.03402697e-03, 1.03258690e-03, 1.02967765e-03,\n",
       "       1.02805808e-03, 1.02252011e-03, 1.02237057e-03, 1.01711119e-03,\n",
       "       1.01569894e-03, 1.00830479e-03, 1.00701788e-03, 1.00485691e-03,\n",
       "       1.00189435e-03, 1.00129142e-03, 9.98502267e-04, 9.96689135e-04,\n",
       "       9.92965860e-04, 9.90261862e-04, 9.84038017e-04, 9.83118308e-04,\n",
       "       9.80536609e-04, 9.77374046e-04, 9.73801212e-04, 9.72678511e-04,\n",
       "       9.70944997e-04, 9.64288031e-04, 9.62175129e-04, 9.61390926e-04,\n",
       "       9.57311219e-04, 9.56588955e-04, 9.52494691e-04, 9.48029384e-04,\n",
       "       9.44534208e-04, 9.43867937e-04, 9.41615953e-04, 9.39571096e-04,\n",
       "       9.33765736e-04, 9.31203618e-04, 9.29449343e-04, 9.28002084e-04,\n",
       "       9.27818767e-04, 9.25268720e-04, 9.22246466e-04, 9.16536138e-04,\n",
       "       9.14795504e-04, 9.11511022e-04, 9.08984459e-04, 9.08246899e-04,\n",
       "       9.04491719e-04, 9.03586006e-04, 8.99193442e-04, 8.97227507e-04,\n",
       "       8.93401018e-04, 8.91558859e-04, 8.89611854e-04, 8.87729357e-04,\n",
       "       8.85006857e-04, 8.80096692e-04, 8.76476536e-04, 8.74978924e-04,\n",
       "       8.73409082e-04, 8.71011649e-04, 8.68095551e-04, 8.66656386e-04,\n",
       "       8.66042288e-04, 8.63836303e-04, 8.58337177e-04, 8.58072449e-04,\n",
       "       8.55117114e-04, 8.50288416e-04, 8.49372600e-04, 8.49181625e-04,\n",
       "       8.44889874e-04, 8.43415580e-04, 8.39450963e-04, 8.38376560e-04,\n",
       "       8.35817092e-04, 8.33656956e-04, 8.30991836e-04, 8.30175155e-04,\n",
       "       8.24276104e-04, 8.23177962e-04, 8.20804680e-04, 8.19562145e-04,\n",
       "       8.15180086e-04, 8.14608858e-04, 8.13466870e-04, 8.09511366e-04,\n",
       "       8.08724435e-04, 8.07074997e-04, 8.03153875e-04, 7.99103087e-04,\n",
       "       7.98697011e-04, 7.97665501e-04, 7.95840377e-04, 7.91834459e-04,\n",
       "       7.88870687e-04, 7.86857716e-04, 7.85459653e-04, 7.85328900e-04,\n",
       "       7.82364953e-04, 7.81063769e-04, 7.77341178e-04, 7.75018576e-04,\n",
       "       7.72466908e-04, 7.69911429e-04, 7.67060884e-04, 7.65358266e-04,\n",
       "       7.63810672e-04, 7.62118763e-04, 7.60504682e-04, 7.59546144e-04,\n",
       "       7.57358383e-04, 7.55177644e-04, 7.53247738e-04, 7.50751814e-04,\n",
       "       7.48416846e-04, 7.45255582e-04, 7.44068360e-04, 7.42600749e-04,\n",
       "       7.41346467e-04, 7.37517662e-04, 7.35127127e-04, 7.33506648e-04,\n",
       "       7.29903292e-04, 7.28875161e-04, 7.26942378e-04, 7.25571162e-04,\n",
       "       7.24287288e-04, 7.21007259e-04, 7.16997698e-04, 7.15550510e-04,\n",
       "       7.13007881e-04, 7.11301014e-04, 7.10016755e-04, 7.08784865e-04,\n",
       "       7.06158069e-04, 7.05395383e-04, 7.01736621e-04, 7.00359353e-04,\n",
       "       6.99849870e-04, 6.97791051e-04, 6.96364980e-04, 6.94358400e-04,\n",
       "       6.91711958e-04, 6.89183725e-04, 6.87339100e-04, 6.86673758e-04,\n",
       "       6.83977467e-04, 6.82067798e-04, 6.80199223e-04, 6.78156599e-04,\n",
       "       6.75677042e-04, 6.73911912e-04, 6.70688779e-04, 6.69811903e-04,\n",
       "       6.68511272e-04, 6.65749878e-04, 6.65531483e-04, 6.61539647e-04,\n",
       "       6.59985713e-04, 6.58002789e-04, 6.56064689e-04, 6.53933107e-04,\n",
       "       6.52973426e-04, 6.51966826e-04, 6.49820185e-04, 6.46065856e-04,\n",
       "       6.44524226e-04, 6.43650564e-04, 6.42458270e-04, 6.40438920e-04,\n",
       "       6.39717571e-04, 6.35592756e-04, 6.33838559e-04, 6.30516146e-04,\n",
       "       6.29822309e-04, 6.27531049e-04, 6.26133966e-04, 6.24894847e-04,\n",
       "       6.22846549e-04, 6.21878989e-04, 6.21187614e-04, 6.18611399e-04,\n",
       "       6.14868390e-04, 6.13142502e-04, 6.12060878e-04, 6.09993970e-04,\n",
       "       6.09384262e-04, 6.07577599e-04, 6.05871077e-04, 6.02823084e-04,\n",
       "       5.99787898e-04, 5.98537804e-04, 5.96348724e-04, 5.95664205e-04,\n",
       "       5.93584765e-04, 5.92289234e-04, 5.90833138e-04, 5.88341923e-04,\n",
       "       5.85899836e-04, 5.84981288e-04, 5.82836078e-04, 5.79541841e-04,\n",
       "       5.77582417e-04, 5.76013934e-04, 5.74943173e-04, 5.69902820e-04,\n",
       "       5.69153222e-04, 5.68922683e-04, 5.66289758e-04, 5.64754766e-04,\n",
       "       5.63474791e-04, 5.60777755e-04, 5.59815368e-04, 5.57638228e-04,\n",
       "       5.55961677e-04, 5.53353483e-04, 5.50614531e-04, 5.48814659e-04,\n",
       "       5.47097018e-04, 5.46541366e-04, 5.44893823e-04, 5.41740028e-04,\n",
       "       5.40473351e-04, 5.39049640e-04, 5.37424789e-04, 5.35836022e-04,\n",
       "       5.34221502e-04, 5.33266980e-04, 5.30177508e-04, 5.27720596e-04,\n",
       "       5.24739991e-04, 5.24204571e-04, 5.22587579e-04, 5.19499119e-04,\n",
       "       5.18736741e-04, 5.16050866e-04, 5.15348664e-04, 5.12682131e-04,\n",
       "       5.11535213e-04, 5.10278313e-04, 5.07912825e-04, 5.04979049e-04,\n",
       "       5.04767095e-04, 5.01592971e-04, 5.01279236e-04, 4.98693864e-04,\n",
       "       4.98158438e-04, 4.95933268e-04, 4.94459901e-04, 4.91246914e-04,\n",
       "       4.89497409e-04, 4.87062446e-04, 4.86157202e-04, 4.84768820e-04,\n",
       "       4.83026401e-04, 4.80429146e-04, 4.76306596e-04, 4.75212882e-04,\n",
       "       4.74128725e-04, 4.71706028e-04, 4.69259012e-04, 4.68468885e-04,\n",
       "       4.67086323e-04, 4.64265372e-04, 4.62677367e-04, 4.61128462e-04,\n",
       "       4.58183099e-04, 4.57642459e-04, 4.56595936e-04, 4.51904547e-04,\n",
       "       4.51280354e-04, 4.47774870e-04, 4.45022947e-04, 4.41545706e-04,\n",
       "       4.39350587e-04, 4.38231735e-04, 4.36457233e-04, 4.34094308e-04,\n",
       "       4.31268742e-04, 4.27090518e-04, 4.23924045e-04, 4.21726559e-04,\n",
       "       4.20187347e-04, 4.18703779e-04, 4.12632825e-04, 4.09561908e-04,\n",
       "       4.04781494e-04, 4.02323061e-04, 3.99222234e-04, 3.92677216e-04,\n",
       "       3.89415190e-04, 5.04651323e-33])"
      ]
     },
     "execution_count": 13,
     "metadata": {},
     "output_type": "execute_result"
    }
   ],
   "source": [
    "# explained variance\n",
    "pca.explained_variance_ratio_"
   ]
  },
  {
   "cell_type": "code",
   "execution_count": 14,
   "id": "9456b0d0-cf6b-4bfe-a969-e6ff2d9bd551",
   "metadata": {
    "tags": []
   },
   "outputs": [
    {
     "data": {
      "text/plain": [
       "594"
      ]
     },
     "execution_count": 14,
     "metadata": {},
     "output_type": "execute_result"
    }
   ],
   "source": [
    "# number of components\n",
    "pca.n_components_"
   ]
  },
  {
   "cell_type": "code",
   "execution_count": 16,
   "id": "a4472ea0-9306-4bf2-9e31-6585baf9938c",
   "metadata": {
    "tags": []
   },
   "outputs": [
    {
     "data": {
      "image/png": "[encoded data removed]",
      "text/plain": [
       "<Figure size 640x480 with 1 Axes>"
      ]
     },
     "metadata": {},
     "output_type": "display_data"
    }
   ],
   "source": [
    "# scree plot\n",
    "PC_values = np.arange(pca.n_components_) + 1\n",
    "plt.plot(PC_values, pca.explained_variance_ratio_, 'o-', linewidth=2, color='blue')\n",
    "plt.title('Scree Plot')\n",
    "plt.xlabel('Principal Component')\n",
    "plt.ylabel('Variance Explained')\n",
    "plt.show()"
   ]
  },
  {
   "cell_type": "code",
   "execution_count": 17,
   "id": "6986dafe-48f1-4c0b-ab1f-d9f655478870",
   "metadata": {
    "tags": []
   },
   "outputs": [
    {
     "data": {
      "text/html": [
       "<style>#sk-container-id-2 {color: black;}#sk-container-id-2 pre{padding: 0;}#sk-container-id-2 div.sk-toggleable {background-color: white;}#sk-container-id-2 label.sk-toggleable__label {cursor: pointer;display: block;width: 100%;margin-bottom: 0;padding: 0.3em;box-sizing: border-box;text-align: center;}#sk-container-id-2 label.sk-toggleable__label-arrow:before {content: \"▸\";float: left;margin-right: 0.25em;color: #696969;}#sk-container-id-2 label.sk-toggleable__label-arrow:hover:before {color: black;}#sk-container-id-2 div.sk-estimator:hover label.sk-toggleable__label-arrow:before {color: black;}#sk-container-id-2 div.sk-toggleable__content {max-height: 0;max-width: 0;overflow: hidden;text-align: left;background-color: #f0f8ff;}#sk-container-id-2 div.sk-toggleable__content pre {margin: 0.2em;color: black;border-radius: 0.25em;background-color: #f0f8ff;}#sk-container-id-2 input.sk-toggleable__control:checked~div.sk-toggleable__content {max-height: 200px;max-width: 100%;overflow: auto;}#sk-container-id-2 input.sk-toggleable__control:checked~label.sk-toggleable__label-arrow:before {content: \"▾\";}#sk-container-id-2 div.sk-estimator input.sk-toggleable__control:checked~label.sk-toggleable__label {background-color: #d4ebff;}#sk-container-id-2 div.sk-label input.sk-toggleable__control:checked~label.sk-toggleable__label {background-color: #d4ebff;}#sk-container-id-2 input.sk-hidden--visually {border: 0;clip: rect(1px 1px 1px 1px);clip: rect(1px, 1px, 1px, 1px);height: 1px;margin: -1px;overflow: hidden;padding: 0;position: absolute;width: 1px;}#sk-container-id-2 div.sk-estimator {font-family: monospace;background-color: #f0f8ff;border: 1px dotted black;border-radius: 0.25em;box-sizing: border-box;margin-bottom: 0.5em;}#sk-container-id-2 div.sk-estimator:hover {background-color: #d4ebff;}#sk-container-id-2 div.sk-parallel-item::after {content: \"\";width: 100%;border-bottom: 1px solid gray;flex-grow: 1;}#sk-container-id-2 div.sk-label:hover label.sk-toggleable__label {background-color: #d4ebff;}#sk-container-id-2 div.sk-serial::before {content: \"\";position: absolute;border-left: 1px solid gray;box-sizing: border-box;top: 0;bottom: 0;left: 50%;z-index: 0;}#sk-container-id-2 div.sk-serial {display: flex;flex-direction: column;align-items: center;background-color: white;padding-right: 0.2em;padding-left: 0.2em;position: relative;}#sk-container-id-2 div.sk-item {position: relative;z-index: 1;}#sk-container-id-2 div.sk-parallel {display: flex;align-items: stretch;justify-content: center;background-color: white;position: relative;}#sk-container-id-2 div.sk-item::before, #sk-container-id-2 div.sk-parallel-item::before {content: \"\";position: absolute;border-left: 1px solid gray;box-sizing: border-box;top: 0;bottom: 0;left: 50%;z-index: -1;}#sk-container-id-2 div.sk-parallel-item {display: flex;flex-direction: column;z-index: 1;position: relative;background-color: white;}#sk-container-id-2 div.sk-parallel-item:first-child::after {align-self: flex-end;width: 50%;}#sk-container-id-2 div.sk-parallel-item:last-child::after {align-self: flex-start;width: 50%;}#sk-container-id-2 div.sk-parallel-item:only-child::after {width: 0;}#sk-container-id-2 div.sk-dashed-wrapped {border: 1px dashed gray;margin: 0 0.4em 0.5em 0.4em;box-sizing: border-box;padding-bottom: 0.4em;background-color: white;}#sk-container-id-2 div.sk-label label {font-family: monospace;font-weight: bold;display: inline-block;line-height: 1.2em;}#sk-container-id-2 div.sk-label-container {text-align: center;}#sk-container-id-2 div.sk-container {/* jupyter's `normalize.less` sets `[hidden] { display: none; }` but bootstrap.min.css set `[hidden] { display: none !important; }` so we also need the `!important` here to be able to override the default hidden behavior on the sphinx rendered scikit-learn.org. See: https://github.com/scikit-learn/scikit-learn/issues/21755 */display: inline-block !important;position: relative;}#sk-container-id-2 div.sk-text-repr-fallback {display: none;}</style><div id=\"sk-container-id-2\" class=\"sk-top-container\"><div class=\"sk-text-repr-fallback\"><pre>PCA(n_components=0.95)</pre><b>In a Jupyter environment, please rerun this cell to show the HTML representation or trust the notebook. <br />On GitHub, the HTML representation is unable to render, please try loading this page with nbviewer.org.</b></div><div class=\"sk-container\" hidden><div class=\"sk-item\"><div class=\"sk-estimator sk-toggleable\"><input class=\"sk-toggleable__control sk-hidden--visually\" id=\"sk-estimator-id-2\" type=\"checkbox\" checked><label for=\"sk-estimator-id-2\" class=\"sk-toggleable__label sk-toggleable__label-arrow\">PCA</label><div class=\"sk-toggleable__content\"><pre>PCA(n_components=0.95)</pre></div></div></div></div></div>"
      ],
      "text/plain": [
       "PCA(n_components=0.95)"
      ]
     },
     "execution_count": 17,
     "metadata": {},
     "output_type": "execute_result"
    }
   ],
   "source": [
    "# second pca where we specify that we want as many components as we need to explain 95% of variance - lets see how many we get\n",
    "pca2 = PCA(.95)\n",
    "pca2.fit(X_train)"
   ]
  },
  {
   "cell_type": "code",
   "execution_count": 20,
   "id": "59b666ad-1f95-46f6-a74c-cd661d33014d",
   "metadata": {
    "tags": []
   },
   "outputs": [
    {
     "data": {
      "text/plain": [
       "494"
      ]
     },
     "execution_count": 20,
     "metadata": {},
     "output_type": "execute_result"
    }
   ],
   "source": [
    "pca2.n_components_\n",
    "# still lots of components"
   ]
  },
  {
   "cell_type": "code",
   "execution_count": 21,
   "id": "9111c660-960d-413e-8e57-b6d689809eac",
   "metadata": {
    "tags": []
   },
   "outputs": [
    {
     "data": {
      "image/png": "[encoded data removed]",
      "text/plain": [
       "<Figure size 640x480 with 1 Axes>"
      ]
     },
     "metadata": {},
     "output_type": "display_data"
    }
   ],
   "source": [
    "# plot it again\n",
    "\n",
    "PC_values = np.arange(pca2.n_components_) + 1\n",
    "plt.plot(PC_values, pca2.explained_variance_ratio_, 'o-', linewidth=2, color='blue')\n",
    "plt.title('Scree Plot')\n",
    "plt.xlabel('Principal Component')\n",
    "plt.ylabel('Variance Explained')\n",
    "plt.show()"
   ]
  },
  {
   "cell_type": "code",
   "execution_count": 22,
   "id": "b2e5945d-cfae-47bc-a6ab-f5eeca6340b1",
   "metadata": {
    "tags": []
   },
   "outputs": [],
   "source": [
    "# apply pca to training and  test set\n",
    "X_train_pca = pca2.fit_transform(X_train)\n",
    "X_test_pca = pca2.transform(X_test)"
   ]
  },
  {
   "cell_type": "code",
   "execution_count": 27,
   "id": "46e432b7-853c-4d12-8467-e5a225d950aa",
   "metadata": {
    "tags": []
   },
   "outputs": [],
   "source": [
    "pd.DataFrame(X_train_pca).to_csv(\"/Users/sarabinder/Desktop/To_Do/Wichtig/rf_test/X_train_pca.csv\")\n",
    "pd.DataFrame(X_test_pca).to_csv(\"/Users/sarabinder/Desktop/To_Do/Wichtig/rf_test/X_test_pca.csv\")"
   ]
  },
  {
   "cell_type": "code",
   "execution_count": null,
   "id": "4c318c4c-9b5d-483b-9607-b49f353d0f67",
   "metadata": {},
   "outputs": [],
   "source": []
  },
  {
   "cell_type": "code",
   "execution_count": null,
   "id": "de496f1e-2fa9-40d9-95d2-6bd523b39fb0",
   "metadata": {},
   "outputs": [],
   "source": []
  },
  {
   "cell_type": "code",
   "execution_count": null,
   "id": "47ac8823-9e86-4a26-8119-8098b55dee88",
   "metadata": {},
   "outputs": [],
   "source": []
  },
  {
   "cell_type": "code",
   "execution_count": null,
   "id": "7c31f343-6a18-4fc3-8e05-7a01412458e2",
   "metadata": {},
   "outputs": [],
   "source": []
  },
  {
   "cell_type": "code",
   "execution_count": null,
   "id": "90adddc2-332b-4d14-9742-676909907d02",
   "metadata": {},
   "outputs": [],
   "source": []
  },
  {
   "cell_type": "code",
   "execution_count": null,
   "id": "ec038e77-2222-45b6-8afd-4e45f6c34bd9",
   "metadata": {},
   "outputs": [],
   "source": []
  },
  {
   "cell_type": "code",
   "execution_count": null,
   "id": "c4336154-ea3d-4048-bec9-5d19dcb71121",
   "metadata": {},
   "outputs": [],
   "source": []
  },
  {
   "cell_type": "code",
   "execution_count": null,
   "id": "f03f3b71-5bfc-4ea3-8697-dd0fb4b78172",
   "metadata": {},
   "outputs": [],
   "source": []
  }
 ],
 "metadata": {
  "kernelspec": {
   "display_name": "Python 3 (ipykernel)",
   "language": "python",
   "name": "python3"
  },
  "language_info": {
   "codemirror_mode": {
    "name": "ipython",
    "version": 3
   },
   "file_extension": ".py",
   "mimetype": "text/x-python",
   "name": "python",
   "nbconvert_exporter": "python",
   "pygments_lexer": "ipython3",
   "version": "3.11.5"
  }
 },
 "nbformat": 4,
 "nbformat_minor": 5
}
